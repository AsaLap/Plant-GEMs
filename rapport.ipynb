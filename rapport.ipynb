{
 "metadata": {
  "language_info": {
   "codemirror_mode": {
    "name": "ipython",
    "version": 3
   },
   "file_extension": ".py",
   "mimetype": "text/x-python",
   "name": "python",
   "nbconvert_exporter": "python",
   "pygments_lexer": "ipython3",
   "version": "3.8.2-final"
  },
  "orig_nbformat": 2,
  "kernelspec": {
   "name": "python38264bite5275775b6dd424aa9f088419a9622f3",
   "display_name": "Python 3.8.2 64-bit"
  }
 },
 "nbformat": 4,
 "nbformat_minor": 2,
 "cells": [
  {
   "cell_type": "markdown",
   "metadata": {},
   "source": [
    "# Blasting.py : nombre de modèles reconstruits : 10\n",
    "### - 5 avec AraGEM3 :"
   ]
  },
  {
   "cell_type": "code",
   "execution_count": 4,
   "metadata": {
    "tags": []
   },
   "outputs": [
    {
     "output_type": "stream",
     "name": "stderr",
     "text": "'' is not a valid SBML 'SId'.\nNb de réactions, modèle AraGEM : \nAraGEM :  1633\nNb de réactions, modèles basés sur AraGEM : \nNo objective coefficients in model. Unclear what should be optimized\nTomate :  1030\nNo objective coefficients in model. Unclear what should be optimized\nKiwi :  1070\nNo objective coefficients in model. Unclear what should be optimized\nConcombre :  940\nNo objective coefficients in model. Unclear what should be optimized\nCerise :  1023\nNo objective coefficients in model. Unclear what should be optimized\nCameline :  1150\n"
    }
   ],
   "source": [
    "import cobra\n",
    "\n",
    "print(\"Nb de réactions, modèle AraGEM : \")\n",
    "Aragem = cobra.io.read_sbml_model(\"/home/asa/INRAE/Work/Raw_Data/Arabidopsis/AraGEM3.xml\")\n",
    "print(\"AraGEM : \", len(Aragem.reactions))\n",
    "print(\"Nb de réactions, modèles basés sur AraGEM : \")\n",
    "TomatoAragem = cobra.io.read_sbml_model(\"/home/asa/INRAE/Work/blasting_drafts/Tomato_Arabidopsis/Tomato.xml\")\n",
    "print(\"Tomate : \", len(TomatoAragem.reactions))\n",
    "KiwiAragem = cobra.io.read_sbml_model(\"/home/asa/INRAE/Work/blasting_drafts/Kiwi_Arabidopsis/Kiwi.xml\")\n",
    "print(\"Kiwi : \", len(KiwiAragem.reactions))\n",
    "CucumberAragem = cobra.io.read_sbml_model(\"/home/asa/INRAE/Work/blasting_drafts/Cucumber_Arabidopsis/Cucumber.xml\")\n",
    "print(\"Concombre : \", len(CucumberAragem.reactions))\n",
    "CherryAragem = cobra.io.read_sbml_model(\"/home/asa/INRAE/Work/blasting_drafts/Cherry_Arabidopsis/Cherry.xml\")\n",
    "print(\"Cerise : \", len(CherryAragem.reactions))\n",
    "CamelinaAragem = cobra.io.read_sbml_model(\"/home/asa/INRAE/Work/blasting_drafts/Camelina_Arabidopsis/Camelina.xml\")\n",
    "print(\"Cameline : \", len(CamelinaAragem.reactions))"
   ]
  },
  {
   "cell_type": "markdown",
   "metadata": {},
   "source": [
    "### - 5 avec AraCyc :"
   ]
  },
  {
   "cell_type": "code",
   "execution_count": 6,
   "metadata": {
    "tags": []
   },
   "outputs": [
    {
     "output_type": "stream",
     "name": "stderr",
     "text": "No objective in listOfObjectives\nNo objective coefficients in model. Unclear what should be optimized\nAraCyc :  2346\nNb de réactions, modèles basés sur AraGEM : \nTomate :  1309\nKiwi :  1371\nConcombre :  1168\nCerise :  1322\nCameline :  1593\n"
    }
   ],
   "source": [
    "import cobra\n",
    "\n",
    "Aracyc = cobra.io.read_sbml_model(\"/home/asa/INRAE/Work/Raw_Data/Aracyc/aracyc.sbml\")\n",
    "print(\"AraCyc : \", len(Aracyc.reactions))\n",
    "print(\"Nb de réactions, modèles basés sur AraGEM : \")\n",
    "TomatoAracyc = cobra.io.load_json_model(\"/home/asa/INRAE/Work/blasting_drafts/Tomato_Aracyc/Tomato.json\")\n",
    "print(\"Tomate : \", len(TomatoAracyc.reactions))\n",
    "KiwiAracyc = cobra.io.load_json_model(\"/home/asa/INRAE/Work/blasting_drafts/Kiwi_Aracyc/Kiwi.json\")\n",
    "print(\"Kiwi : \", len(KiwiAracyc.reactions))\n",
    "CucumberAracyc = cobra.io.load_json_model(\"/home/asa/INRAE/Work/blasting_drafts/Cucumber_Aracyc/Cucumber.json\")\n",
    "print(\"Concombre : \", len(CucumberAracyc.reactions))\n",
    "CherryAracyc = cobra.io.load_json_model(\"/home/asa/INRAE/Work/blasting_drafts/Cherry_Aracyc/Cherry.json\")\n",
    "print(\"Cerise : \", len(CherryAracyc.reactions))\n",
    "CamelinaAracyc = cobra.io.load_json_model(\"/home/asa/INRAE/Work/blasting_drafts/Camelina_Aracyc/Camelina.json\")\n",
    "print(\"Cameline : \", len(CamelinaAracyc.reactions))"
   ]
  },
  {
   "cell_type": "markdown",
   "metadata": {},
   "source": [
    "NB : Le changement a été effectué car le modèle AraCyc est basé sur Metacyc et possède donc des identifiants déjà compatible, ce qui est bien plus aisé pour la suite du traitement (Pathway Tools + Meneco). Aussi, le modèle est plus récent, mieux révisé et possède plus de réactions."
   ]
  },
  {
   "cell_type": "markdown",
   "metadata": {},
   "source": [
    "# pathwayToolsPrep.py : nombre de modèles 'reconstruits' : 5\n",
    "### Seules les réactions vont être récupérées, le modèle ne sera pas reconstruit, son squelette sera utilisé plus tard pour une vraie reconstruction."
   ]
  }
 ]
}